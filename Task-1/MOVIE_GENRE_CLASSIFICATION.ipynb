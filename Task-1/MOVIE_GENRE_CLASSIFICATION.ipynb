{
  "nbformat": 4,
  "nbformat_minor": 0,
  "metadata": {
    "colab": {
      "provenance": [],
      "gpuType": "T4"
    },
    "kernelspec": {
      "name": "python3",
      "display_name": "Python 3"
    },
    "language_info": {
      "name": "python"
    },
    "accelerator": "GPU"
  },
  "cells": [
    {
      "cell_type": "code",
      "source": [
        "import pandas as pd\n",
        "from sklearn.feature_extraction.text import TfidfVectorizer\n",
        "from sklearn.model_selection import train_test_split\n",
        "from sklearn.linear_model import LogisticRegression\n",
        "from sklearn.naive_bayes import MultinomialNB\n",
        "from sklearn.svm import SVC\n",
        "from sklearn.metrics import classification_report, accuracy_score\n",
        "\n",
        "# Load the dataset\n",
        "train_data_path = 'train_data.csv'\n",
        "test_data_path = 'test_data.csv'\n",
        "test_solution_path = 'test_data_solution.csv'\n",
        "\n",
        "# Read train data\n",
        "train_data = pd.read_csv(train_data_path, delimiter=' ::: ', engine='python', names=['ID', 'Title', 'Genre', 'Description'])\n",
        "# Read test data\n",
        "test_data = pd.read_csv(test_data_path, delimiter=' ::: ', engine='python', names=['ID', 'Title', 'Description'])\n",
        "# Read test solution\n",
        "test_solution = pd.read_csv(test_solution_path, delimiter=' ::: ', engine='python', names=['ID', 'Genre'])\n",
        "\n",
        "# Preprocess the data\n",
        "X = train_data['Description']\n",
        "y = train_data['Genre']\n",
        "\n",
        "# Split the data into training and validation sets\n",
        "X_train, X_val, y_train, y_val = train_test_split(X, y, test_size=0.2, random_state=42)\n",
        "\n",
        "# Extract features using TF-IDF\n",
        "tfidf_vectorizer = TfidfVectorizer(stop_words='english', max_features=5000)\n",
        "X_train_tfidf = tfidf_vectorizer.fit_transform(X_train)\n",
        "X_val_tfidf = tfidf_vectorizer.transform(X_val)\n",
        "\n",
        "# Choose a classifier\n",
        "classifier_type = 'naive_bayes'  # Change to 'naive_bayes' or 'svm' as needed\n",
        "\n",
        "if classifier_type == 'logistic_regression':\n",
        "    classifier = LogisticRegression(max_iter=500, penalty='l2')  # Increased max_iter and added L2 regularization\n",
        "elif classifier_type == 'naive_bayes':\n",
        "    classifier = MultinomialNB()\n",
        "elif classifier_type == 'svm':\n",
        "    classifier = SVC()\n",
        "\n",
        "# Train the classifier\n",
        "classifier.fit(X_train_tfidf, y_train)\n",
        "\n",
        "# Predict on validation set\n",
        "y_pred = classifier.predict(X_val_tfidf)\n",
        "\n",
        "# Evaluate the model\n",
        "print(f'Accuracy: {accuracy_score(y_val, y_pred)}')\n",
        "print('Classification Report:')\n",
        "print(classification_report(y_val, y_pred))\n",
        "\n",
        "# Predict on test data\n",
        "X_test = test_data['Description']\n",
        "X_test_tfidf = tfidf_vectorizer.transform(X_test)\n",
        "test_data['Predicted_Genre'] = classifier.predict(X_test_tfidf)\n",
        "\n",
        "# Compare with test solution\n",
        "merged_test_data = test_data.merge(test_solution, on='ID')\n",
        "print(f'Accuracy on test data: {accuracy_score(merged_test_data[\"Genre\"], merged_test_data[\"Predicted_Genre\"])}')\n",
        "print('Test Data Classification Report:')\n",
        "# Extract unique genres as target names if they exist\n",
        "target_names = merged_test_data[\"Genre\"].unique()\n",
        "if len(target_names) > 0:\n",
        "    print(classification_report(merged_test_data[\"Genre\"], merged_test_data[\"Predicted_Genre\"], target_names=target_names))\n",
        "else:\n",
        "    print(\"No target names found.\")\n",
        "\n",
        "\n",
        "# Display the test data with predictions\n",
        "print(test_data.head())\n"
      ],
      "metadata": {
        "colab": {
          "base_uri": "https://localhost:8080/"
        },
        "id": "jsmHqovrcbL7",
        "outputId": "1fb8c461-181f-493f-ed68-39a424994d95"
      },
      "execution_count": 10,
      "outputs": [
        {
          "output_type": "stream",
          "name": "stdout",
          "text": [
            "Accuracy: 0.5231946878170248\n",
            "Classification Report:\n"
          ]
        },
        {
          "output_type": "stream",
          "name": "stderr",
          "text": [
            "/usr/local/lib/python3.10/dist-packages/sklearn/metrics/_classification.py:1344: UndefinedMetricWarning: Precision and F-score are ill-defined and being set to 0.0 in labels with no predicted samples. Use `zero_division` parameter to control this behavior.\n",
            "  _warn_prf(average, modifier, msg_start, len(result))\n",
            "/usr/local/lib/python3.10/dist-packages/sklearn/metrics/_classification.py:1344: UndefinedMetricWarning: Precision and F-score are ill-defined and being set to 0.0 in labels with no predicted samples. Use `zero_division` parameter to control this behavior.\n",
            "  _warn_prf(average, modifier, msg_start, len(result))\n",
            "/usr/local/lib/python3.10/dist-packages/sklearn/metrics/_classification.py:1344: UndefinedMetricWarning: Precision and F-score are ill-defined and being set to 0.0 in labels with no predicted samples. Use `zero_division` parameter to control this behavior.\n",
            "  _warn_prf(average, modifier, msg_start, len(result))\n"
          ]
        },
        {
          "output_type": "stream",
          "name": "stdout",
          "text": [
            "              precision    recall  f1-score   support\n",
            "\n",
            "      action       0.58      0.08      0.14       263\n",
            "       adult       0.88      0.06      0.12       112\n",
            "   adventure       0.29      0.03      0.05       139\n",
            "   animation       0.00      0.00      0.00       104\n",
            "   biography       0.00      0.00      0.00        61\n",
            "      comedy       0.51      0.44      0.47      1443\n",
            "       crime       0.00      0.00      0.00       107\n",
            " documentary       0.58      0.88      0.70      2659\n",
            "       drama       0.46      0.83      0.59      2697\n",
            "      family       1.00      0.01      0.01       150\n",
            "     fantasy       0.00      0.00      0.00        74\n",
            "   game-show       1.00      0.15      0.26        40\n",
            "     history       0.00      0.00      0.00        45\n",
            "      horror       0.73      0.36      0.48       431\n",
            "       music       0.77      0.12      0.20       144\n",
            "     musical       0.00      0.00      0.00        50\n",
            "     mystery       0.00      0.00      0.00        56\n",
            "        news       0.00      0.00      0.00        34\n",
            "  reality-tv       0.80      0.02      0.04       192\n",
            "     romance       0.00      0.00      0.00       151\n",
            "      sci-fi       0.86      0.04      0.08       143\n",
            "       short       0.60      0.10      0.18      1045\n",
            "       sport       0.73      0.09      0.15        93\n",
            "   talk-show       0.00      0.00      0.00        81\n",
            "    thriller       0.23      0.01      0.02       309\n",
            "         war       0.00      0.00      0.00        20\n",
            "     western       0.98      0.59      0.74       200\n",
            "\n",
            "    accuracy                           0.52     10843\n",
            "   macro avg       0.41      0.14      0.16     10843\n",
            "weighted avg       0.52      0.52      0.44     10843\n",
            "\n",
            "Accuracy on test data: nan\n",
            "Test Data Classification Report:\n",
            "No target names found.\n",
            "   ID                        Title  \\\n",
            "0  \"1         Edgar's Lunch (1998)   \n",
            "1  \"2     La guerra de papá (1977)   \n",
            "2  \"3  Off the Beaten Track (2010)   \n",
            "3  \"4       Meu Amigo Hindu (2015)   \n",
            "4  \"5            Er nu zhai (1955)   \n",
            "\n",
            "                                         Description Predicted_Genre  \n",
            "0  L.R. Brane loves his life - his car, his apart...           drama  \n",
            "1  Spain, March 1964: Quico is a very naughty chi...           drama  \n",
            "2  One year in the life of Albin and his family o...     documentary  \n",
            "3  His father has died, he hasn't spoken with his...           drama  \n",
            "4  Before he was known internationally as a marti...           drama  \n"
          ]
        },
        {
          "output_type": "stream",
          "name": "stderr",
          "text": [
            "/usr/local/lib/python3.10/dist-packages/numpy/lib/function_base.py:520: RuntimeWarning: Mean of empty slice.\n",
            "  avg = a.mean(axis, **keepdims_kw)\n",
            "/usr/local/lib/python3.10/dist-packages/numpy/core/_methods.py:129: RuntimeWarning: invalid value encountered in scalar divide\n",
            "  ret = ret.dtype.type(ret / rcount)\n"
          ]
        }
      ]
    }
  ]
}